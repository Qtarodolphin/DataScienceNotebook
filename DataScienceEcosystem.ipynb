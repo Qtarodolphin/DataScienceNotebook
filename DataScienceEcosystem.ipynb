{
 "cells": [
  {
   "cell_type": "markdown",
   "id": "0acbd38e-5ddd-480b-bba9-f3f8f1a02516",
   "metadata": {},
   "source": [
    "# Data Science Tools and Ecosystem"
   ]
  },
  {
   "cell_type": "markdown",
   "id": "28b39129-fa1d-4fe9-ae39-79727e191b39",
   "metadata": {},
   "source": [
    "**Objectives:**\n",
    "\n",
    "- List of popular languages for Data Science\n",
    "- List of commonly used libraries for Data Science\n",
    "- Table of popular Data Science tools\n",
    "- Example of arithmetic in Python\n",
    "- Example of division in Python\n"
   ]
  },
  {
   "cell_type": "markdown",
   "id": "1a813752-32f7-4042-892f-0626aaf16122",
   "metadata": {},
   "source": [
    "In this notebook, Data Science Tools and Ecosystem are summarized."
   ]
  },
  {
   "cell_type": "markdown",
   "id": "17af9b7f-26be-45f2-87df-51337ccb8d36",
   "metadata": {},
   "source": [
    "Some of the popular languages that Data Scientists use are:\n",
    "\n",
    "1. Python\n",
    "2. SQL\n",
    "3. R\n",
    "4. Julia\n",
    "5. Scala"
   ]
  },
  {
   "cell_type": "markdown",
   "id": "b374f95b-dd5b-470e-8804-506eaebc368b",
   "metadata": {},
   "source": [
    "Some of the commonly used libraries used by Data Scientists include:\n",
    "\n",
    "1. ggplot\n",
    "2. seaborn\n",
    "3. matplotlib\n",
    "4. pandas\n",
    "5. scipy\n",
    "6. numpy"
   ]
  },
  {
   "cell_type": "markdown",
   "id": "8acd58f6-9940-4b4a-b85b-d9e1a22a7b13",
   "metadata": {},
   "source": [
    "|**Data Science Tools**|\n",
    "|-----------------|\n",
    "|Anaconda |\n",
    "|Jupyter Lab |\n",
    "|RStudio |"
   ]
  },
  {
   "cell_type": "markdown",
   "id": "a761c102-ae70-45e7-88bb-5b9986a63d52",
   "metadata": {},
   "source": [
    "### Below are a few examples of evaluating arithmetic expressions in Python"
   ]
  },
  {
   "cell_type": "code",
   "execution_count": 1,
   "id": "01e02d50-6fa8-45d5-b277-86363346a5d8",
   "metadata": {},
   "outputs": [
    {
     "data": {
      "text/plain": [
       "17"
      ]
     },
     "execution_count": 1,
     "metadata": {},
     "output_type": "execute_result"
    }
   ],
   "source": [
    "#This is a simple arithmetic expression to multiply then add integers\n",
    "(3*4)+5"
   ]
  },
  {
   "cell_type": "code",
   "execution_count": 4,
   "id": "7383bca9-81d5-4d92-97a5-e0b10b239f72",
   "metadata": {},
   "outputs": [
    {
     "data": {
      "text/plain": [
       "3.3333333333333335"
      ]
     },
     "execution_count": 4,
     "metadata": {},
     "output_type": "execute_result"
    }
   ],
   "source": [
    "#This will convert 200 minutes to hours by dividing by 60\n",
    "200/60"
   ]
  },
  {
   "cell_type": "markdown",
   "id": "9abd4dec-f2c1-4cd5-933a-0b3f44487889",
   "metadata": {},
   "source": [
    "## Author ##\n",
    "Sean Donnellan"
   ]
  },
  {
   "cell_type": "code",
   "execution_count": null,
   "id": "bc5d7327-dc4b-497f-8905-aeb3792ac69e",
   "metadata": {},
   "outputs": [],
   "source": []
  }
 ],
 "metadata": {
  "kernelspec": {
   "display_name": "Python 3 (ipykernel)",
   "language": "python",
   "name": "python3"
  },
  "language_info": {
   "codemirror_mode": {
    "name": "ipython",
    "version": 3
   },
   "file_extension": ".py",
   "mimetype": "text/x-python",
   "name": "python",
   "nbconvert_exporter": "python",
   "pygments_lexer": "ipython3",
   "version": "3.11.5"
  }
 },
 "nbformat": 4,
 "nbformat_minor": 5
}
